{
 "cells": [
  {
   "cell_type": "markdown",
   "metadata": {},
   "source": [
    "# Hurricane Analysis"
   ]
  },
  {
   "cell_type": "markdown",
   "metadata": {},
   "source": [
    "## Project Goals\n",
    "\n",
    "You will work to write several functions that organize and manipulate data about Category 5 Hurricanes, the strongest hurricanes as rated by their wind speed. Each one of these functions will use a number of parameters, conditionals, lists, dictionaries, string manipulation, and return statements."
   ]
  },
  {
   "cell_type": "code",
   "execution_count": 1,
   "metadata": {},
   "outputs": [],
   "source": [
    "# names of hurricanes\n",
    "names = ['Cuba I', 'San Felipe II Okeechobee', 'Bahamas', 'Cuba II', 'CubaBrownsville', 'Tampico', 'Labor Day', 'New England', 'Carol', 'Janet', 'Carla', 'Hattie', 'Beulah', 'Camille', 'Edith', 'Anita', 'David', 'Allen', 'Gilbert', 'Hugo', 'Andrew', 'Mitch', 'Isabel', 'Ivan', 'Emily', 'Katrina', 'Rita', 'Wilma', 'Dean', 'Felix', 'Matthew', 'Irma', 'Maria', 'Michael']\n",
    "\n",
    "# months of hurricanes\n",
    "months = ['October', 'September', 'September', 'November', 'August', 'September', 'September', 'September', 'September', 'September', 'September', 'October', 'September', 'August', 'September', 'September', 'August', 'August', 'September', 'September', 'August', 'October', 'September', 'September', 'July', 'August', 'September', 'October', 'August', 'September', 'October', 'September', 'September', 'October']\n",
    "\n",
    "# years of hurricanes\n",
    "years = [1924, 1928, 1932, 1932, 1933, 1933, 1935, 1938, 1953, 1955, 1961, 1961, 1967, 1969, 1971, 1977, 1979, 1980, 1988, 1989, 1992, 1998, 2003, 2004, 2005, 2005, 2005, 2005, 2007, 2007, 2016, 2017, 2017, 2018]\n",
    "\n",
    "# maximum sustained winds (mph) of hurricanes\n",
    "max_sustained_winds = [165, 160, 160, 175, 160, 160, 185, 160, 160, 175, 175, 160, 160, 175, 160, 175, 175, 190, 185, 160, 175, 180, 165, 165, 160, 175, 180, 185, 175, 175, 165, 180, 175, 160]\n",
    "\n",
    "# areas affected by each hurricane\n",
    "areas_affected = [['Central America', 'Mexico', 'Cuba', 'Florida', 'The Bahamas'], ['Lesser Antilles', 'The Bahamas', 'United States East Coast', 'Atlantic Canada'], ['The Bahamas', 'Northeastern United States'], ['Lesser Antilles', 'Jamaica', 'Cayman Islands', 'Cuba', 'The Bahamas', 'Bermuda'], ['The Bahamas', 'Cuba', 'Florida', 'Texas', 'Tamaulipas'], ['Jamaica', 'Yucatn Peninsula'], ['The Bahamas', 'Florida', 'Georgia', 'The Carolinas', 'Virginia'], ['Southeastern United States', 'Northeastern United States', 'Southwestern Quebec'], ['Bermuda', 'New England', 'Atlantic Canada'], ['Lesser Antilles', 'Central America'], ['Texas', 'Louisiana', 'Midwestern United States'], ['Central America'], ['The Caribbean', 'Mexico', 'Texas'], ['Cuba', 'United States Gulf Coast'], ['The Caribbean', 'Central America', 'Mexico', 'United States Gulf Coast'], ['Mexico'], ['The Caribbean', 'United States East coast'], ['The Caribbean', 'Yucatn Peninsula', 'Mexico', 'South Texas'], ['Jamaica', 'Venezuela', 'Central America', 'Hispaniola', 'Mexico'], ['The Caribbean', 'United States East Coast'], ['The Bahamas', 'Florida', 'United States Gulf Coast'], ['Central America', 'Yucatn Peninsula', 'South Florida'], ['Greater Antilles', 'Bahamas', 'Eastern United States', 'Ontario'], ['The Caribbean', 'Venezuela', 'United States Gulf Coast'], ['Windward Islands', 'Jamaica', 'Mexico', 'Texas'], ['Bahamas', 'United States Gulf Coast'], ['Cuba', 'United States Gulf Coast'], ['Greater Antilles', 'Central America', 'Florida'], ['The Caribbean', 'Central America'], ['Nicaragua', 'Honduras'], ['Antilles', 'Venezuela', 'Colombia', 'United States East Coast', 'Atlantic Canada'], ['Cape Verde', 'The Caribbean', 'British Virgin Islands', 'U.S. Virgin Islands', 'Cuba', 'Florida'], ['Lesser Antilles', 'Virgin Islands', 'Puerto Rico', 'Dominican Republic', 'Turks and Caicos Islands'], ['Central America', 'United States Gulf Coast (especially Florida Panhandle)']]\n",
    "\n",
    "# damages (USD($)) of hurricanes\n",
    "damages = ['Damages not recorded', '100M', 'Damages not recorded', '40M', '27.9M', '5M', 'Damages not recorded', '306M', '2M', '65.8M', '326M', '60.3M', '208M', '1.42B', '25.4M', 'Damages not recorded', '1.54B', '1.24B', '7.1B', '10B', '26.5B', '6.2B', '5.37B', '23.3B', '1.01B', '125B', '12B', '29.4B', '1.76B', '720M', '15.1B', '64.8B', '91.6B', '25.1B']\n",
    "\n",
    "# deaths for each hurricane\n",
    "deaths = [90,4000,16,3103,179,184,408,682,5,1023,43,319,688,259,37,11,2068,269,318,107,65,19325,51,124,17,1836,125,87,45,133,603,138,3057,74]"
   ]
  },
  {
   "cell_type": "code",
   "execution_count": 2,
   "metadata": {},
   "outputs": [
    {
     "name": "stdout",
     "output_type": "stream",
     "text": [
      "['Damages not recorded', 100000000.0, 'Damages not recorded', 40000000.0, 27900000.0, 5000000.0, 'Damages not recorded', 306000000.0, 2000000.0, 65800000.0, 326000000.0, 60300000.0, 208000000.0, 1420000000.0, 25400000.0, 'Damages not recorded', 1540000000.0, 1240000000.0, 7100000000.0, 10000000000.0, 26500000000.0, 6200000000.0, 5370000000.0, 23300000000.0, 1010000000.0, 125000000000.0, 12000000000.0, 29400000000.0, 1760000000.0, 720000000.0, 15100000000.0, 64800000000.0, 91600000000.0, 25100000000.0]\n"
     ]
    }
   ],
   "source": [
    "# write your update damages function here:\n",
    "def update_damages(damages):\n",
    "  updated_list=[]\n",
    "  for i in damages:\n",
    "    if i.find(\"M\")>-1:\n",
    "      i=i.replace(\"M\",\"\")\n",
    "      i=float(i)\n",
    "      i=i*1000000\n",
    "      updated_list.append(i)\n",
    "    elif i.find(\"B\")>-1:\n",
    "      i=i.replace(\"B\",\"\")\n",
    "      i=float(i)\n",
    "      i=i*1000000000\n",
    "      updated_list.append(i)\n",
    "    else:\n",
    "      updated_list.append(i)\n",
    "  return updated_list\n",
    "    \n",
    "updated_damages=update_damages(damages)\n",
    "print(updated_damages)"
   ]
  },
  {
   "cell_type": "code",
   "execution_count": 3,
   "metadata": {},
   "outputs": [
    {
     "name": "stdout",
     "output_type": "stream",
     "text": [
      "{'Name': 'Felix', 'Month': 'September', 'Year': 2007, 'Max Sustained Winds': 175, 'Areas Affected': ['Nicaragua', 'Honduras'], 'Damages': 720000000.0, 'Deaths': 133}\n",
      "2007\n"
     ]
    }
   ],
   "source": [
    "# write your construct hurricane dictionary function here:\n",
    "\n",
    "def create_hurricane_dict():\n",
    "  hurricane_dict={}\n",
    "  for i in range(len(names)):\n",
    "    hurricane_dict[names[i]]={\"Name\":names[i],\"Month\":months[i],\"Year\":years[i],\"Max Sustained Winds\": max_sustained_winds[i],\"Areas Affected\": areas_affected[i],\"Damages\":updated_damages[i],\"Deaths\":deaths[i]}\n",
    "  return hurricane_dict\n",
    "\n",
    "hurricane_dict=create_hurricane_dict()\n",
    "print(hurricane_dict[\"Felix\"])\n",
    "print(hurricane_dict[\"Felix\"][\"Year\"])\n",
    "#print(hurricane_dict)"
   ]
  },
  {
   "cell_type": "code",
   "execution_count": 4,
   "metadata": {},
   "outputs": [
    {
     "name": "stdout",
     "output_type": "stream",
     "text": [
      "\n",
      "[{'Name': 'Bahamas', 'Month': 'September', 'Year': 1932, 'Max Sustained Winds': 160, 'Areas Affected': ['The Bahamas', 'Northeastern United States'], 'Damages': 'Damages not recorded', 'Deaths': 16}, {'Name': 'Cuba II', 'Month': 'November', 'Year': 1932, 'Max Sustained Winds': 175, 'Areas Affected': ['Lesser Antilles', 'Jamaica', 'Cayman Islands', 'Cuba', 'The Bahamas', 'Bermuda'], 'Damages': 40000000.0, 'Deaths': 3103}]\n"
     ]
    }
   ],
   "source": [
    "# write your construct hurricane by year dictionary function here:\n",
    "\n",
    "def year_hurricane_dict(hurricane_dict):\n",
    "  year_dict={}\n",
    "  for i in hurricane_dict:\n",
    "    name=i\n",
    "    year=hurricane_dict[i][\"Year\"]\n",
    "    if year not in year_dict:\n",
    "      year_dict[year]=[hurricane_dict[name]]\n",
    "    else:\n",
    "      year_dict[year].append(hurricane_dict[name])\n",
    "  return year_dict\n",
    "  \n",
    "\n",
    "years=year_hurricane_dict(hurricane_dict)\n",
    "#print(years)\n",
    "print(\"\")\n",
    "print(years[1932])"
   ]
  },
  {
   "cell_type": "code",
   "execution_count": 5,
   "metadata": {},
   "outputs": [
    {
     "name": "stdout",
     "output_type": "stream",
     "text": [
      "{'Central America': 9, 'Mexico': 7, 'Cuba': 6, 'Florida': 6, 'The Bahamas': 7, 'Lesser Antilles': 4, 'United States East Coast': 3, 'Atlantic Canada': 3, 'Northeastern United States': 2, 'Jamaica': 4, 'Cayman Islands': 1, 'Bermuda': 2, 'Texas': 4, 'Tamaulipas': 1, 'Yucatn Peninsula': 3, 'Georgia': 1, 'The Carolinas': 1, 'Virginia': 1, 'Southeastern United States': 1, 'Southwestern Quebec': 1, 'New England': 1, 'Louisiana': 1, 'Midwestern United States': 1, 'The Caribbean': 8, 'United States Gulf Coast': 6, 'United States East coast': 1, 'South Texas': 1, 'Venezuela': 3, 'Hispaniola': 1, 'South Florida': 1, 'Greater Antilles': 2, 'Bahamas': 2, 'Eastern United States': 1, 'Ontario': 1, 'Windward Islands': 1, 'Nicaragua': 1, 'Honduras': 1, 'Antilles': 1, 'Colombia': 1, 'Cape Verde': 1, 'British Virgin Islands': 1, 'U.S. Virgin Islands': 1, 'Virgin Islands': 1, 'Puerto Rico': 1, 'Dominican Republic': 1, 'Turks and Caicos Islands': 1, 'United States Gulf Coast (especially Florida Panhandle)': 1}\n"
     ]
    }
   ],
   "source": [
    "# write your count affected areas function here:\n",
    "def count_affected(areas_affected):\n",
    "  count_dict={}\n",
    "  for i in range(len(areas_affected)):\n",
    "    for j in range(len(areas_affected[i])):\n",
    "      if areas_affected[i][j] not in count_dict:\n",
    "        count_dict[areas_affected[i][j]]=1\n",
    "      else:\n",
    "        count_dict[areas_affected[i][j]]+=1\n",
    "  return count_dict\n",
    "\n",
    "area_count=count_affected(areas_affected)\n",
    "print(area_count)"
   ]
  },
  {
   "cell_type": "code",
   "execution_count": 6,
   "metadata": {},
   "outputs": [
    {
     "name": "stdout",
     "output_type": "stream",
     "text": [
      "{'Central America': 9}\n"
     ]
    }
   ],
   "source": [
    "# write your find most affected area function here:\n",
    "\n",
    "def max_affected_area(area_count):\n",
    "  max_area=''\n",
    "  max_times=0\n",
    "  for k,v in area_count.items():\n",
    "    if v > max_times:\n",
    "      max_times=v\n",
    "      max_area=k\n",
    "  max_affected={max_area : max_times}\n",
    "  return max_affected\n",
    "\n",
    "max_affected=max_affected_area(area_count)\n",
    "print(max_affected)"
   ]
  },
  {
   "cell_type": "code",
   "execution_count": 7,
   "metadata": {},
   "outputs": [
    {
     "name": "stdout",
     "output_type": "stream",
     "text": [
      "{'Mitch': 19325}\n"
     ]
    }
   ],
   "source": [
    "# write your greatest number of deaths function here:\n",
    "def max_death(hurricane_dict):\n",
    "  name=''\n",
    "  num_deaths=0\n",
    "  for k,v in hurricane_dict.items():\n",
    "    if v[\"Deaths\"]>num_deaths:\n",
    "      num_deaths=v[\"Deaths\"]\n",
    "      name=k\n",
    "  max_death={name: num_deaths}\n",
    "  return max_death\n",
    "\n",
    "print(max_death(hurricane_dict))"
   ]
  },
  {
   "cell_type": "code",
   "execution_count": 8,
   "metadata": {},
   "outputs": [
    {
     "name": "stdout",
     "output_type": "stream",
     "text": [
      "{1: ['Cuba I', 'Bahamas', 'Carol', 'Carla', 'Edith', 'Anita', 'Andrew', 'Isabel', 'Emily', 'Wilma', 'Dean', 'Michael'], 2: ['CubaBrownsville', 'Tampico', 'Labor Day', 'Hattie', 'Camille', 'Allen', 'Gilbert', 'Hugo', 'Ivan', 'Rita', 'Felix', 'Irma'], 3: ['New England', 'Beulah', 'Matthew'], 4: ['San Felipe II Okeechobee', 'Cuba II', 'Janet', 'David', 'Katrina', 'Maria'], 5: ['Mitch']}\n"
     ]
    }
   ],
   "source": [
    "# write your catgeorize by mortality function here:\n",
    "def mortality_rating(hurricane_dict):\n",
    "  mortality_dict={1: [],2: [],3: [],4:[],5:[]}\n",
    "  for k,v in hurricane_dict.items():\n",
    "    if v[\"Deaths\"]>0 and v[\"Deaths\"]<=100:\n",
    "      mortality_dict[1].append(k)\n",
    "    elif v[\"Deaths\"]>100 and v[\"Deaths\"]<=500:\n",
    "      mortality_dict[2].append(k)\n",
    "    elif v[\"Deaths\"]>500 and v[\"Deaths\"]<=1000:\n",
    "      mortality_dict[3].append(k)\n",
    "    elif v[\"Deaths\"]>1000 and v[\"Deaths\"]<=10000:\n",
    "      mortality_dict[4].append(k)\n",
    "    elif v[\"Deaths\"]>10000:\n",
    "      mortality_dict[5].append(k)\n",
    "  return mortality_dict\n",
    "\n",
    "print(mortality_rating(hurricane_dict))"
   ]
  },
  {
   "cell_type": "code",
   "execution_count": 9,
   "metadata": {},
   "outputs": [
    {
     "name": "stdout",
     "output_type": "stream",
     "text": [
      "{'Katrina': 125000000000.0}\n"
     ]
    }
   ],
   "source": [
    "# write your greatest damage function here:\n",
    "def max_damage(hurricane_dict):\n",
    "  name=''\n",
    "  max_damage=0\n",
    "  for k,v in hurricane_dict.items():\n",
    "    if isinstance(v[\"Damages\"],float) and v[\"Damages\"]>max_damage:\n",
    "      max_damage=v[\"Damages\"]\n",
    "      name=k\n",
    "  max_damages={name: max_damage}\n",
    "  return max_damages\n",
    "\n",
    "print(max_damage(hurricane_dict))"
   ]
  },
  {
   "cell_type": "code",
   "execution_count": 10,
   "metadata": {},
   "outputs": [
    {
     "name": "stdout",
     "output_type": "stream",
     "text": [
      "{1: ['San Felipe II Okeechobee', 'Cuba II', 'CubaBrownsville', 'Tampico', 'Carol', 'Janet', 'Hattie', 'Edith'], 2: ['New England', 'Carla', 'Beulah', 'Felix'], 3: ['Camille', 'David', 'Allen', 'Gilbert', 'Hugo', 'Mitch', 'Isabel', 'Emily', 'Dean'], 4: ['Andrew', 'Ivan', 'Rita', 'Wilma', 'Matthew', 'Michael'], 5: ['Katrina', 'Irma', 'Maria']}\n"
     ]
    }
   ],
   "source": [
    "# write your categorize by damage function here:\n",
    "def damage_rating(hurricane_dict):\n",
    "  damage_dict={1: [],2: [],3: [],4:[],5:[]}\n",
    "  for k,v in hurricane_dict.items():\n",
    "    if isinstance(v[\"Damages\"],float) and v[\"Damages\"]>0 and v[\"Damages\"]<=100000000:\n",
    "      damage_dict[1].append(k)\n",
    "    elif isinstance(v[\"Damages\"],float) and v[\"Damages\"]>100000000 and v[\"Damages\"]<=1000000000:\n",
    "      damage_dict[2].append(k)\n",
    "    elif isinstance(v[\"Damages\"],float) and v[\"Damages\"]>1000000000 and v[\"Damages\"]<=10000000000:\n",
    "      damage_dict[3].append(k)\n",
    "    elif isinstance(v[\"Damages\"],float) and v[\"Damages\"]>10000000000 and v[\"Damages\"]<=50000000000:\n",
    "      damage_dict[4].append(k)\n",
    "    elif isinstance(v[\"Damages\"],float) and v[\"Damages\"]>50000000000:\n",
    "      damage_dict[5].append(k)\n",
    "  return damage_dict\n",
    "\n",
    "print(damage_rating(hurricane_dict))"
   ]
  },
  {
   "cell_type": "code",
   "execution_count": null,
   "metadata": {},
   "outputs": [],
   "source": []
  }
 ],
 "metadata": {
  "kernelspec": {
   "display_name": "Python 3",
   "language": "python",
   "name": "python3"
  },
  "language_info": {
   "codemirror_mode": {
    "name": "ipython",
    "version": 3
   },
   "file_extension": ".py",
   "mimetype": "text/x-python",
   "name": "python",
   "nbconvert_exporter": "python",
   "pygments_lexer": "ipython3",
   "version": "3.8.5"
  }
 },
 "nbformat": 4,
 "nbformat_minor": 4
}
